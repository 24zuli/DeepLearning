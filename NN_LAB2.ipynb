{
  "cells": [
    {
      "cell_type": "markdown",
      "metadata": {
        "id": "view-in-github",
        "colab_type": "text"
      },
      "source": [
        "<a href=\"https://colab.research.google.com/github/24zuli/DeepLearning/blob/main/NN_LAB2.ipynb\" target=\"_parent\"><img src=\"https://colab.research.google.com/assets/colab-badge.svg\" alt=\"Open In Colab\"/></a>"
      ]
    },
    {
      "cell_type": "code",
      "execution_count": 115,
      "metadata": {
        "id": "6mrCrSM_Lsbv"
      },
      "outputs": [],
      "source": [
        "#!pip install tensorflow"
      ]
    },
    {
      "cell_type": "code",
      "execution_count": 116,
      "metadata": {
        "id": "_GjOmbb8M0TY"
      },
      "outputs": [],
      "source": [
        "import tensorflow.compat.v1 as tf"
      ]
    },
    {
      "cell_type": "code",
      "execution_count": 117,
      "metadata": {
        "colab": {
          "base_uri": "https://localhost:8080/"
        },
        "id": "SkWWPXIzOXRL",
        "outputId": "6d17af8c-ef38-4d35-da19-c82621681b7d"
      },
      "outputs": [
        {
          "output_type": "stream",
          "name": "stdout",
          "text": [
            "2.18.0\n"
          ]
        }
      ],
      "source": [
        "print(tf.__version__)"
      ]
    },
    {
      "cell_type": "code",
      "execution_count": 118,
      "metadata": {
        "colab": {
          "base_uri": "https://localhost:8080/"
        },
        "id": "mImrU9IhOyAa",
        "outputId": "465a6751-b617-4413-dce0-58d37aed55c9"
      },
      "outputs": [
        {
          "output_type": "stream",
          "name": "stdout",
          "text": [
            "Tensor(\"add_12:0\", shape=(), dtype=string)\n"
          ]
        }
      ],
      "source": [
        "he = tf.constant(\"Hello\")\n",
        "wo = tf.constant(\"World\")\n",
        "hewo = he + wo\n",
        "print(hewo)"
      ]
    },
    {
      "cell_type": "code",
      "execution_count": 119,
      "metadata": {
        "colab": {
          "base_uri": "https://localhost:8080/"
        },
        "id": "vj0zSfxQQAXW",
        "outputId": "23607bd8-5039-4cdd-d796-d330538ad2db"
      },
      "outputs": [
        {
          "output_type": "stream",
          "name": "stdout",
          "text": [
            "Hello World!\n"
          ]
        }
      ],
      "source": [
        "from os import P_NOWAITO\n",
        "phe = \"Hello\"\n",
        "P_NOWAITO = \" World!\"\n",
        "phewo = phe + P_NOWAITO\n",
        "print(phewo)"
      ]
    },
    {
      "cell_type": "code",
      "execution_count": 120,
      "metadata": {
        "id": "gOOb_fJuQbkI"
      },
      "outputs": [],
      "source": [
        "tf.disable_eager_execution()\n"
      ]
    },
    {
      "cell_type": "code",
      "execution_count": 121,
      "metadata": {
        "colab": {
          "base_uri": "https://localhost:8080/"
        },
        "id": "ba-CQebgRAbG",
        "outputId": "b964df03-5baf-4c1f-d55d-f5e1fb4fc94c"
      },
      "outputs": [
        {
          "output_type": "stream",
          "name": "stdout",
          "text": [
            "b'HelloWorld'\n"
          ]
        }
      ],
      "source": [
        "with tf.Session() as sess:\n",
        "  ans = sess.run(hewo)\n",
        "print(ans)"
      ]
    },
    {
      "cell_type": "code",
      "execution_count": 122,
      "metadata": {
        "id": "m8mgR-jnRPwr"
      },
      "outputs": [],
      "source": [
        "a = tf.constant(5)\n",
        "b = tf.constant(2)\n",
        "c = tf.constant(3)\n"
      ]
    },
    {
      "cell_type": "code",
      "execution_count": 123,
      "metadata": {
        "id": "22CHwosETnB_"
      },
      "outputs": [],
      "source": [
        "d = tf.multiply(a,b)\n",
        "e = tf.add(c,b)\n",
        "f = tf.subtract(d,e)"
      ]
    },
    {
      "cell_type": "code",
      "execution_count": 124,
      "metadata": {
        "id": "ftR8sQLVT3qr"
      },
      "outputs": [],
      "source": [
        "sess = tf.Session()\n",
        "res = sess.run(f)\n"
      ]
    },
    {
      "cell_type": "code",
      "execution_count": 125,
      "metadata": {
        "id": "dNS7ZB8AUMcb"
      },
      "outputs": [],
      "source": [
        "sess.close()\n"
      ]
    },
    {
      "cell_type": "code",
      "execution_count": 126,
      "metadata": {
        "colab": {
          "base_uri": "https://localhost:8080/"
        },
        "id": "wckIXwRRUP32",
        "outputId": "17dbca18-6009-4bf5-b514-66cf71db02dc"
      },
      "outputs": [
        {
          "output_type": "stream",
          "name": "stdout",
          "text": [
            "5\n"
          ]
        }
      ],
      "source": [
        "print(res)"
      ]
    },
    {
      "cell_type": "code",
      "execution_count": 127,
      "metadata": {
        "colab": {
          "base_uri": "https://localhost:8080/"
        },
        "id": "sx5p63z4UYwr",
        "outputId": "fdaa68b4-e49e-45ba-c388-801b6aa9610c"
      },
      "outputs": [
        {
          "output_type": "stream",
          "name": "stdout",
          "text": [
            "<tensorflow.python.framework.ops.Graph object at 0x7fee60cfe5c0>\n"
          ]
        }
      ],
      "source": [
        "print(tf.get_default_graph())"
      ]
    },
    {
      "cell_type": "code",
      "execution_count": 128,
      "metadata": {
        "colab": {
          "base_uri": "https://localhost:8080/"
        },
        "id": "unL37Q1WU8Pg",
        "outputId": "84b1910b-f5c7-43c4-93ea-58d661a91a53"
      },
      "outputs": [
        {
          "output_type": "stream",
          "name": "stdout",
          "text": [
            "<tensorflow.python.framework.ops.Graph object at 0x7fee4a1a3d40>\n"
          ]
        }
      ],
      "source": [
        "g = tf.Graph()\n",
        "print(g)"
      ]
    },
    {
      "cell_type": "code",
      "execution_count": 129,
      "metadata": {
        "colab": {
          "base_uri": "https://localhost:8080/"
        },
        "id": "gA29zFscU-g4",
        "outputId": "2bd72dc8-1b54-4339-f43c-02d0bb1091f4"
      },
      "outputs": [
        {
          "output_type": "stream",
          "name": "stdout",
          "text": [
            "False\n"
          ]
        }
      ],
      "source": [
        "z = tf.constant(8)\n",
        "print(z.graph is g)"
      ]
    },
    {
      "cell_type": "code",
      "execution_count": 130,
      "metadata": {
        "colab": {
          "base_uri": "https://localhost:8080/"
        },
        "id": "LJiNGhf9VGvi",
        "outputId": "6f92ba7d-5e20-457a-8c94-73c7507d4f6f"
      },
      "outputs": [
        {
          "output_type": "stream",
          "name": "stdout",
          "text": [
            "True\n"
          ]
        }
      ],
      "source": [
        "print(z.graph is tf.get_default_graph())"
      ]
    },
    {
      "cell_type": "code",
      "execution_count": 131,
      "metadata": {
        "id": "9GlkXcLbVPDN"
      },
      "outputs": [],
      "source": [
        "sess = tf.Session()"
      ]
    },
    {
      "cell_type": "code",
      "execution_count": 132,
      "metadata": {
        "id": "X7tYI6k3VYDZ"
      },
      "outputs": [],
      "source": [
        "fetches = [a,b,c,d,e,f]\n"
      ]
    },
    {
      "cell_type": "code",
      "execution_count": 133,
      "metadata": {
        "id": "50YBm4WsVe-_"
      },
      "outputs": [],
      "source": [
        "res = sess.run(fetches)"
      ]
    },
    {
      "cell_type": "code",
      "execution_count": 134,
      "metadata": {
        "id": "loeCv8D4VotH"
      },
      "outputs": [],
      "source": [
        "sess.close()"
      ]
    },
    {
      "cell_type": "code",
      "execution_count": 135,
      "metadata": {
        "colab": {
          "base_uri": "https://localhost:8080/"
        },
        "id": "7bWnbSmnVqZm",
        "outputId": "380ddf01-11d7-42f7-c8d5-17dde4c0c749"
      },
      "outputs": [
        {
          "output_type": "stream",
          "name": "stdout",
          "text": [
            "[5, 2, 3, 10, 5, 5]\n"
          ]
        }
      ],
      "source": [
        "print(res)"
      ]
    },
    {
      "cell_type": "code",
      "execution_count": 136,
      "metadata": {
        "id": "AfgJzy8kVtEx"
      },
      "outputs": [],
      "source": [
        "a = tf.constant(3)\n",
        "b = tf.Variable(6)"
      ]
    },
    {
      "cell_type": "code",
      "execution_count": 137,
      "metadata": {
        "id": "SmlH7c-xWexv"
      },
      "outputs": [],
      "source": [
        "sum = tf.add(a,b)"
      ]
    },
    {
      "cell_type": "code",
      "execution_count": 138,
      "metadata": {
        "id": "fbm9FMqMWmPx"
      },
      "outputs": [],
      "source": [
        "sum = a+b"
      ]
    },
    {
      "cell_type": "code",
      "execution_count": 139,
      "metadata": {
        "id": "_ZaDRoZtWrLc"
      },
      "outputs": [],
      "source": [
        "assign_val = tf.assign(b,4)"
      ]
    },
    {
      "cell_type": "code",
      "execution_count": 140,
      "metadata": {
        "id": "Kkx2NudyWqBM"
      },
      "outputs": [],
      "source": [
        "init_ops = tf.global_variables_initializer()"
      ]
    },
    {
      "cell_type": "code",
      "execution_count": 141,
      "metadata": {
        "id": "m4gxiQ3LXJbx"
      },
      "outputs": [],
      "source": [
        "sess = tf.Session()"
      ]
    },
    {
      "cell_type": "code",
      "execution_count": 142,
      "metadata": {
        "id": "x3JHxD3IXMT2"
      },
      "outputs": [],
      "source": [
        "sess.run(init_ops)"
      ]
    },
    {
      "cell_type": "code",
      "execution_count": 143,
      "metadata": {
        "colab": {
          "base_uri": "https://localhost:8080/"
        },
        "id": "WWY_LFc1XOhF",
        "outputId": "562f4131-86c1-456d-fb07-f58b7bd6fc3f"
      },
      "outputs": [
        {
          "output_type": "stream",
          "name": "stdout",
          "text": [
            "9\n"
          ]
        }
      ],
      "source": [
        "print(sess.run(sum))"
      ]
    },
    {
      "cell_type": "code",
      "execution_count": 144,
      "metadata": {
        "colab": {
          "base_uri": "https://localhost:8080/"
        },
        "id": "TMwhnc9cXw2q",
        "outputId": "29a0c68a-84b4-4b12-8d97-55e984354b9f"
      },
      "outputs": [
        {
          "output_type": "execute_result",
          "data": {
            "text/plain": [
              "4"
            ]
          },
          "metadata": {},
          "execution_count": 144
        }
      ],
      "source": [
        "sess.run(assign_val)"
      ]
    },
    {
      "cell_type": "code",
      "execution_count": 145,
      "metadata": {
        "colab": {
          "base_uri": "https://localhost:8080/"
        },
        "id": "xJ9mJGsJXzTj",
        "outputId": "098f5e4e-9be1-4c73-b196-68c0b246d2d9"
      },
      "outputs": [
        {
          "output_type": "stream",
          "name": "stdout",
          "text": [
            "7\n"
          ]
        }
      ],
      "source": [
        "print(sess.run(sum))"
      ]
    },
    {
      "cell_type": "code",
      "execution_count": 146,
      "metadata": {
        "id": "9YkLL_BBX-FH"
      },
      "outputs": [],
      "source": [
        "ph = tf.placeholder(tf.float32)"
      ]
    },
    {
      "cell_type": "code",
      "execution_count": 147,
      "metadata": {
        "id": "3g5F5YLAYd7b"
      },
      "outputs": [],
      "source": [
        "eqn = ph*2"
      ]
    },
    {
      "cell_type": "code",
      "execution_count": 148,
      "metadata": {
        "colab": {
          "base_uri": "https://localhost:8080/"
        },
        "id": "AMSx5GiHZyWq",
        "outputId": "c05892ba-90ad-44c0-d701-f717ee8eb3c5"
      },
      "outputs": [
        {
          "output_type": "execute_result",
          "data": {
            "text/plain": [
              "8.0"
            ]
          },
          "metadata": {},
          "execution_count": 148
        }
      ],
      "source": [
        "sess.run(eqn,feed_dict={ph:4.0})"
      ]
    },
    {
      "cell_type": "code",
      "execution_count": 149,
      "metadata": {
        "colab": {
          "base_uri": "https://localhost:8080/"
        },
        "id": "I4J0UyULZ4IC",
        "outputId": "68c123fc-749e-4a77-b9b0-c67e4e2394b2"
      },
      "outputs": [
        {
          "output_type": "execute_result",
          "data": {
            "text/plain": [
              "array([ 2.,  4.,  6.,  8., 10.], dtype=float32)"
            ]
          },
          "metadata": {},
          "execution_count": 149
        }
      ],
      "source": [
        "sess.run(eqn,feed_dict={ph:[1,2,3,4,5]})"
      ]
    },
    {
      "cell_type": "code",
      "execution_count": 150,
      "metadata": {
        "colab": {
          "base_uri": "https://localhost:8080/"
        },
        "id": "KHaXf36AaFsv",
        "outputId": "a0993003-e8a3-4798-c9b7-75a12602c222"
      },
      "outputs": [
        {
          "output_type": "execute_result",
          "data": {
            "text/plain": [
              "array([[ 2.,  4.,  6.,  8., 10.],\n",
              "       [12., 14., 16., 18., 16.],\n",
              "       [14.,  6.,  4.,  2.,  0.]], dtype=float32)"
            ]
          },
          "metadata": {},
          "execution_count": 150
        }
      ],
      "source": [
        "sess.run(eqn,feed_dict={ph:[[1,2,3,4,5],[6,7,8,9,8],[7,3,2,1,0]]})"
      ]
    },
    {
      "cell_type": "code",
      "execution_count": 151,
      "metadata": {
        "id": "8c8xJLfyaaCS"
      },
      "outputs": [],
      "source": [
        "x = tf.placeholder(tf.float32)\n",
        "y = tf.placeholder(tf.float32)"
      ]
    },
    {
      "cell_type": "code",
      "source": [
        "sum = x+y"
      ],
      "metadata": {
        "id": "jGESfADzcPQf"
      },
      "execution_count": 152,
      "outputs": []
    },
    {
      "cell_type": "code",
      "source": [
        "prd = sum * 5"
      ],
      "metadata": {
        "id": "xen9s7ydcQyt"
      },
      "execution_count": 153,
      "outputs": []
    },
    {
      "cell_type": "code",
      "source": [
        "sess = tf.Session()"
      ],
      "metadata": {
        "id": "ZREE4K1pcaSx"
      },
      "execution_count": 154,
      "outputs": []
    },
    {
      "cell_type": "code",
      "source": [
        "sess.run(prd,feed_dict={x:[3],y:[4]})"
      ],
      "metadata": {
        "colab": {
          "base_uri": "https://localhost:8080/"
        },
        "id": "qEPb5iqScdIr",
        "outputId": "3354626e-19f5-4990-8d9c-56d2ca9cb71b"
      },
      "execution_count": 155,
      "outputs": [
        {
          "output_type": "execute_result",
          "data": {
            "text/plain": [
              "array([35.], dtype=float32)"
            ]
          },
          "metadata": {},
          "execution_count": 155
        }
      ]
    },
    {
      "cell_type": "code",
      "source": [],
      "metadata": {
        "id": "KOlBFN31cl05"
      },
      "execution_count": null,
      "outputs": []
    }
  ],
  "metadata": {
    "colab": {
      "provenance": [],
      "authorship_tag": "ABX9TyMuAcImbiwu5Zw5KpjXSYjf",
      "include_colab_link": true
    },
    "kernelspec": {
      "display_name": "Python 3",
      "name": "python3"
    },
    "language_info": {
      "name": "python"
    }
  },
  "nbformat": 4,
  "nbformat_minor": 0
}